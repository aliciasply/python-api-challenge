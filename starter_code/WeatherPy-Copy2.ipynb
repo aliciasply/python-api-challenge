{
 "cells": [
  {
   "cell_type": "markdown",
   "metadata": {},
   "source": [
    "# WeatherPy\n",
    "----\n",
    "\n",
    "#### Note\n",
    "* Instructions have been included for each segment. You do not have to follow them exactly, but they are included to help you think through the steps."
   ]
  },
  {
   "cell_type": "code",
   "execution_count": 1,
   "metadata": {
    "scrolled": true
   },
   "outputs": [],
   "source": [
    "# Dependencies and Setup\n",
    "import matplotlib.pyplot as plt\n",
    "import pandas as pd\n",
    "import numpy as np\n",
    "import requests\n",
    "import time\n",
    "from scipy.stats import linregress\n",
    "from pprint import pprint\n",
    "\n",
    "# Import API key\n",
    "from api_keys_file import weather_api_key\n",
    "\n",
    "# Incorporated citipy to determine city based on latitude and longitude\n",
    "from citipy import citipy\n",
    "\n",
    "# Output File (CSV)\n",
    "output_data_file = \"output_data/cities.csv\"\n",
    "\n",
    "# Range of latitudes and longitudes\n",
    "lat_range = (-90, 90)\n",
    "lng_range = (-180, 180)\n"
   ]
  },
  {
   "cell_type": "code",
   "execution_count": 2,
   "metadata": {},
   "outputs": [],
   "source": [
    "# # use this when i try to re-run from the top, so that I don't have to keep running 600+ data everytime\n",
    "# cities = pd.read_csv(\"eather_data_final.csv\")\n",
    "# cities = list(cities[\"City\"])\n",
    "# cities"
   ]
  },
  {
   "cell_type": "markdown",
   "metadata": {},
   "source": [
    "## Generate Cities List"
   ]
  },
  {
   "cell_type": "code",
   "execution_count": 3,
   "metadata": {},
   "outputs": [
    {
     "data": {
      "text/plain": [
       "636"
      ]
     },
     "execution_count": 3,
     "metadata": {},
     "output_type": "execute_result"
    }
   ],
   "source": [
    "# List for holding lat_lngs and cities\n",
    "lat_lngs = []\n",
    "cities = []\n",
    "\n",
    "# Create a set of random lat and lng combinations\n",
    "lats = np.random.uniform(lat_range[0], lat_range[1], size=1500)\n",
    "lngs = np.random.uniform(lng_range[0], lng_range[1], size=1500)\n",
    "lat_lngs = zip(lats, lngs)\n",
    "\n",
    "# Identify nearest city for each lat, lng combination\n",
    "for lat_lng in lat_lngs:\n",
    "    city = citipy.nearest_city(lat_lng[0], lat_lng[1]).city_name\n",
    "    \n",
    "    # If the city is unique, then add it to a our cities list\n",
    "    if city not in cities:\n",
    "        cities.append(city)\n",
    "\n",
    "# Print the city count to confirm sufficient count\n",
    "len(cities)"
   ]
  },
  {
   "cell_type": "markdown",
   "metadata": {},
   "source": [
    "### Perform API Calls\n",
    "* Perform a weather check on each city using a series of successive API calls.\n",
    "* Include a print log of each city as it'sbeing processed (with the city number and city name).\n"
   ]
  },
  {
   "cell_type": "code",
   "execution_count": 4,
   "metadata": {
    "scrolled": true
   },
   "outputs": [
    {
     "name": "stdout",
     "output_type": "stream",
     "text": [
      "Beginning Data Retrieval\n",
      "-----------------------------\n",
      " Processing Record 1 | richards bay\n",
      " Processing Record 2 | khatanga\n",
      " Processing Record 3 | bredasdorp\n",
      " Processing Record 4 | korla\n",
      " Processing Record 5 | tasiilaq\n",
      " Processing Record 6 | albany\n",
      "City not found. Skipping...\n",
      " Processing Record 7 | chokurdakh\n",
      " Processing Record 8 | saskylakh\n",
      " Processing Record 9 | phuket\n",
      " Processing Record 10 | port arthur\n",
      " Processing Record 11 | mecca\n",
      " Processing Record 12 | broken hill\n",
      " Processing Record 13 | dalmatovo\n",
      " Processing Record 14 | san patricio\n",
      " Processing Record 15 | port lincoln\n",
      " Processing Record 16 | carnarvon\n",
      " Processing Record 17 | husavik\n",
      " Processing Record 18 | busselton\n",
      " Processing Record 19 | troitskiy\n",
      " Processing Record 20 | bluff\n",
      " Processing Record 21 | kongolo\n",
      " Processing Record 22 | nikolskoye\n",
      " Processing Record 23 | nyurba\n",
      " Processing Record 24 | mataura\n",
      " Processing Record 25 | airai\n",
      " Processing Record 26 | hobart\n",
      " Processing Record 27 | dubbo\n",
      " Processing Record 28 | zhangjiakou\n",
      "City not found. Skipping...\n",
      "City not found. Skipping...\n",
      " Processing Record 29 | kapaa\n",
      " Processing Record 30 | elizabeth city\n",
      " Processing Record 31 | saint-philippe\n",
      " Processing Record 32 | rosetown\n",
      "City not found. Skipping...\n",
      " Processing Record 33 | hermanus\n",
      "City not found. Skipping...\n",
      " Processing Record 34 | sabya\n",
      " Processing Record 35 | algiers\n",
      "City not found. Skipping...\n",
      " Processing Record 36 | chuy\n",
      " Processing Record 37 | butaritari\n",
      " Processing Record 38 | maceio\n",
      " Processing Record 39 | berbera\n",
      " Processing Record 40 | ushuaia\n",
      " Processing Record 41 | noumea\n",
      " Processing Record 42 | malakal\n",
      " Processing Record 43 | cacu\n",
      " Processing Record 44 | remontnoye\n",
      " Processing Record 45 | cape town\n",
      " Processing Record 46 | vestmannaeyjar\n",
      " Processing Record 47 | griffith\n",
      " Processing Record 48 | yurimaguas\n",
      " Processing Record 49 | carballo\n",
      " Processing Record 50 | upernavik\n",
      " Processing Record 51 | magadan\n",
      " Processing Record 52 | macas\n",
      " Processing Record 53 | kimbe\n",
      " Processing Record 54 | rabo de peixe\n",
      " Processing Record 55 | prince rupert\n",
      " Processing Record 56 | valparaiso\n",
      " Processing Record 57 | kilembe\n",
      " Processing Record 58 | henties bay\n",
      " Processing Record 59 | hokitika\n",
      " Processing Record 60 | severo-kurilsk\n",
      " Processing Record 61 | jeremie\n",
      " Processing Record 62 | hastings\n",
      " Processing Record 63 | ponta do sol\n",
      " Processing Record 64 | tambacounda\n",
      " Processing Record 65 | castro\n",
      "City not found. Skipping...\n",
      " Processing Record 66 | ancud\n",
      " Processing Record 67 | atuona\n",
      " Processing Record 68 | puerto quijarro\n",
      " Processing Record 69 | turukhansk\n",
      " Processing Record 70 | saldanha\n",
      " Processing Record 71 | saint anthony\n",
      " Processing Record 72 | dwarka\n",
      "City not found. Skipping...\n",
      " Processing Record 73 | rikitea\n",
      " Processing Record 74 | punta arenas\n",
      " Processing Record 75 | sakakah\n",
      " Processing Record 76 | kavaratti\n",
      " Processing Record 77 | port blair\n",
      " Processing Record 78 | east london\n",
      " Processing Record 79 | kodiak\n",
      " Processing Record 80 | georgetown\n",
      " Processing Record 81 | barrow\n",
      " Processing Record 82 | mayo\n",
      "City not found. Skipping...\n",
      " Processing Record 83 | hilo\n",
      " Processing Record 84 | yellowknife\n",
      "City not found. Skipping...\n",
      " Processing Record 85 | port alfred\n",
      " Processing Record 86 | sao miguel do araguaia\n",
      " Processing Record 87 | tiksi\n",
      " Processing Record 88 | neiafu\n",
      " Processing Record 89 | olafsvik\n",
      " Processing Record 90 | tuatapere\n",
      " Processing Record 91 | tilichiki\n",
      " Processing Record 92 | ulladulla\n",
      " Processing Record 93 | tucuma\n",
      " Processing Record 94 | thompson\n",
      " Processing Record 95 | leningradskiy\n",
      " Processing Record 96 | necochea\n",
      " Processing Record 97 | jalu\n",
      " Processing Record 98 | souillac\n",
      " Processing Record 99 | sadove\n",
      "City not found. Skipping...\n",
      " Processing Record 100 | vaini\n",
      " Processing Record 101 | camacha\n",
      " Processing Record 102 | new norfolk\n",
      " Processing Record 103 | qaanaaq\n",
      " Processing Record 104 | tura\n",
      " Processing Record 105 | auki\n",
      " Processing Record 106 | mahebourg\n",
      " Processing Record 107 | saint-francois\n",
      " Processing Record 108 | college\n",
      " Processing Record 109 | caxito\n",
      " Processing Record 110 | ostrovnoy\n",
      " Processing Record 111 | balabac\n",
      " Processing Record 112 | mailsi\n",
      " Processing Record 113 | palmer\n",
      " Processing Record 114 | matadi\n",
      " Processing Record 115 | guerrero negro\n",
      " Processing Record 116 | aksarka\n",
      " Processing Record 117 | khandyga\n",
      " Processing Record 118 | kulhudhuffushi\n",
      " Processing Record 119 | ribeira grande\n",
      " Processing Record 120 | bambous virieux\n",
      " Processing Record 121 | sao gabriel da cachoeira\n",
      " Processing Record 122 | avarua\n",
      " Processing Record 123 | ahuimanu\n",
      " Processing Record 124 | ilulissat\n",
      "City not found. Skipping...\n",
      " Processing Record 125 | hithadhoo\n",
      " Processing Record 126 | dikson\n",
      " Processing Record 127 | roseto degli abruzzi\n",
      " Processing Record 128 | cotonou\n",
      " Processing Record 129 | otjiwarongo\n",
      " Processing Record 130 | busayra\n",
      " Processing Record 131 | nishihara\n",
      " Processing Record 132 | isabela\n",
      " Processing Record 133 | vanimo\n",
      " Processing Record 134 | beringovskiy\n",
      " Processing Record 135 | dunedin\n",
      " Processing Record 136 | pangnirtung\n",
      " Processing Record 137 | victoria\n",
      " Processing Record 138 | kijang\n",
      " Processing Record 139 | saint-georges\n",
      " Processing Record 140 | muisne\n",
      " Processing Record 141 | hay river\n",
      " Processing Record 142 | yoichi\n",
      " Processing Record 143 | vardo\n",
      " Processing Record 144 | itamaraca\n",
      " Processing Record 145 | mar del plata\n",
      " Processing Record 146 | lavrentiya\n",
      " Processing Record 147 | lenger\n",
      " Processing Record 148 | puerto ayora\n",
      " Processing Record 149 | codrington\n",
      " Processing Record 150 | okhotsk\n",
      "City not found. Skipping...\n",
      " Processing Record 151 | bandarbeyla\n",
      " Processing Record 152 | mogadishu\n",
      " Processing Record 153 | coihaique\n",
      "City not found. Skipping...\n",
      " Processing Record 154 | te anau\n",
      " Processing Record 155 | the hammocks\n",
      " Processing Record 156 | harper\n",
      " Processing Record 157 | todos santos\n",
      " Processing Record 158 | batemans bay\n",
      " Processing Record 159 | mountain home\n",
      " Processing Record 160 | posse\n",
      " Processing Record 161 | roma\n",
      " Processing Record 162 | quatre cocos\n",
      " Processing Record 163 | chingirlau\n",
      " Processing Record 164 | praia da vitoria\n",
      " Processing Record 165 | vostok\n",
      " Processing Record 166 | katobu\n",
      " Processing Record 167 | sherbakul\n",
      " Processing Record 168 | arraial do cabo\n",
      " Processing Record 169 | clyde river\n",
      " Processing Record 170 | gazli\n",
      " Processing Record 171 | ossora\n",
      " Processing Record 172 | bosaso\n",
      " Processing Record 173 | konya\n",
      " Processing Record 174 | yaan\n",
      " Processing Record 175 | namatanai\n",
      " Processing Record 176 | alofi\n",
      " Processing Record 177 | narsaq\n",
      " Processing Record 178 | bagotville\n",
      " Processing Record 179 | san cristobal\n",
      " Processing Record 180 | shenjiamen\n",
      " Processing Record 181 | bom jesus\n",
      " Processing Record 182 | rawson\n",
      " Processing Record 183 | haicheng\n",
      " Processing Record 184 | beboto\n",
      " Processing Record 185 | paracuru\n",
      " Processing Record 186 | derzhavinsk\n",
      " Processing Record 187 | portobelo\n",
      "City not found. Skipping...\n",
      " Processing Record 188 | cooma\n",
      " Processing Record 189 | klyuchi\n",
      " Processing Record 190 | klaksvik\n",
      " Processing Record 191 | sinnamary\n",
      " Processing Record 192 | lata\n",
      " Processing Record 193 | cabo san lucas\n",
      " Processing Record 194 | jamestown\n",
      " Processing Record 195 | deputatskiy\n",
      "City not found. Skipping...\n",
      " Processing Record 196 | katsuura\n",
      " Processing Record 197 | mount isa\n",
      " Processing Record 198 | alugan\n",
      " Processing Record 199 | saint george\n",
      " Processing Record 200 | santa cruz del sur\n",
      " Processing Record 201 | sobolevo\n",
      " Processing Record 202 | northam\n",
      " Processing Record 203 | nome\n",
      " Processing Record 204 | salinopolis\n",
      "City not found. Skipping...\n",
      " Processing Record 205 | muros\n",
      " Processing Record 206 | norman wells\n",
      " Processing Record 207 | poum\n",
      " Processing Record 208 | colombo\n",
      " Processing Record 209 | abu dhabi\n",
      " Processing Record 210 | asau\n",
      " Processing Record 211 | faanui\n",
      "City not found. Skipping...\n",
      " Processing Record 212 | lebu\n",
      " Processing Record 213 | inta\n",
      " Processing Record 214 | chicama\n",
      " Processing Record 215 | turkmenabat\n",
      " Processing Record 216 | odienne\n",
      " Processing Record 217 | houma\n",
      " Processing Record 218 | santa cruz\n",
      " Processing Record 219 | batagay\n",
      " Processing Record 220 | longyearbyen\n",
      " Processing Record 221 | kebumen\n",
      " Processing Record 222 | haines junction\n",
      " Processing Record 223 | san ramon de la nueva oran\n",
      " Processing Record 224 | nanortalik\n"
     ]
    },
    {
     "name": "stdout",
     "output_type": "stream",
     "text": [
      " Processing Record 225 | boyolangu\n",
      " Processing Record 226 | huruta\n",
      " Processing Record 227 | gat\n",
      " Processing Record 228 | gigmoto\n",
      "City not found. Skipping...\n",
      " Processing Record 229 | hamilton\n",
      " Processing Record 230 | santa cruz del norte\n",
      " Processing Record 231 | chibombo\n",
      " Processing Record 232 | kapuskasing\n",
      " Processing Record 233 | cherskiy\n",
      " Processing Record 234 | portland\n",
      " Processing Record 235 | tortoli\n",
      " Processing Record 236 | esperance\n",
      " Processing Record 237 | pangkalanbuun\n",
      " Processing Record 238 | liverpool\n",
      " Processing Record 239 | bubaque\n",
      " Processing Record 240 | yakeshi\n",
      " Processing Record 241 | clinton\n",
      " Processing Record 242 | arbazh\n",
      " Processing Record 243 | kigoma\n",
      " Processing Record 244 | selma\n",
      " Processing Record 245 | brno\n",
      " Processing Record 246 | burnie\n",
      " Processing Record 247 | tinskoy\n",
      " Processing Record 248 | puerto leguizamo\n",
      " Processing Record 249 | fernie\n",
      " Processing Record 250 | yulara\n",
      " Processing Record 251 | tripoli\n",
      " Processing Record 252 | hofn\n",
      " Processing Record 253 | gizo\n",
      " Processing Record 254 | peru\n",
      " Processing Record 255 | mount gambier\n",
      " Processing Record 256 | touros\n",
      " Processing Record 257 | abu kamal\n",
      " Processing Record 258 | taicheng\n",
      " Processing Record 259 | tuy hoa\n",
      " Processing Record 260 | fengzhen\n",
      " Processing Record 261 | sao filipe\n",
      " Processing Record 262 | jiancheng\n",
      " Processing Record 263 | pevek\n",
      " Processing Record 264 | sanchez\n",
      " Processing Record 265 | mlowo\n",
      " Processing Record 266 | port elizabeth\n",
      " Processing Record 267 | seymchan\n",
      " Processing Record 268 | serabu\n",
      " Processing Record 269 | bukama\n",
      " Processing Record 270 | tual\n",
      " Processing Record 271 | anan\n",
      " Processing Record 272 | neuquen\n",
      " Processing Record 273 | raghogarh\n",
      " Processing Record 274 | leirvik\n",
      " Processing Record 275 | kruisfontein\n",
      " Processing Record 276 | paciran\n",
      "City not found. Skipping...\n",
      " Processing Record 277 | severo-yeniseyskiy\n",
      " Processing Record 278 | xianyang\n",
      " Processing Record 279 | dolores\n",
      " Processing Record 280 | chumphon\n",
      " Processing Record 281 | grindavik\n",
      " Processing Record 282 | sudak\n",
      " Processing Record 283 | bambanglipuro\n",
      " Processing Record 284 | hudson bay\n",
      " Processing Record 285 | kawalu\n",
      "City not found. Skipping...\n",
      " Processing Record 286 | mangan\n",
      "City not found. Skipping...\n",
      " Processing Record 287 | ust-nera\n",
      " Processing Record 288 | vila velha\n",
      " Processing Record 289 | karakol\n",
      " Processing Record 290 | rio gallegos\n",
      " Processing Record 291 | umea\n",
      " Processing Record 292 | ipojuca\n",
      " Processing Record 293 | marzuq\n",
      " Processing Record 294 | san marcos\n",
      " Processing Record 295 | hays\n",
      " Processing Record 296 | vao\n",
      " Processing Record 297 | hami\n",
      " Processing Record 298 | suratgarh\n",
      " Processing Record 299 | akniste\n",
      " Processing Record 300 | sistranda\n",
      " Processing Record 301 | turayf\n",
      " Processing Record 302 | torbay\n",
      " Processing Record 303 | kiama\n",
      " Processing Record 304 | anito\n",
      " Processing Record 305 | puerto del rosario\n",
      " Processing Record 306 | hambantota\n",
      " Processing Record 307 | naryan-mar\n",
      " Processing Record 308 | bengkulu\n",
      " Processing Record 309 | anuradhapura\n",
      " Processing Record 310 | khilok\n",
      " Processing Record 311 | robertsport\n",
      " Processing Record 312 | santa rosa\n",
      "City not found. Skipping...\n",
      " Processing Record 313 | linqing\n",
      " Processing Record 314 | ljubinje\n",
      " Processing Record 315 | vanavara\n",
      " Processing Record 316 | dourbali\n",
      " Processing Record 317 | luderitz\n",
      " Processing Record 318 | salalah\n",
      " Processing Record 319 | itarema\n",
      " Processing Record 320 | nioro\n",
      "City not found. Skipping...\n",
      " Processing Record 321 | tokur\n",
      " Processing Record 322 | hauterive\n",
      " Processing Record 323 | kavieng\n",
      " Processing Record 324 | belmonte\n",
      " Processing Record 325 | pemba\n",
      "City not found. Skipping...\n",
      " Processing Record 326 | kathmandu\n",
      " Processing Record 327 | bathsheba\n",
      " Processing Record 328 | nanakuli\n",
      " Processing Record 329 | strezhevoy\n",
      " Processing Record 330 | kikwit\n",
      " Processing Record 331 | oxford\n",
      "City not found. Skipping...\n",
      " Processing Record 332 | omsukchan\n",
      " Processing Record 333 | nauta\n",
      " Processing Record 334 | thalheim\n",
      " Processing Record 335 | miranda\n",
      " Processing Record 336 | harqalah\n",
      " Processing Record 337 | thinadhoo\n",
      " Processing Record 338 | tam ky\n",
      " Processing Record 339 | shimanovsk\n",
      " Processing Record 340 | soc trang\n",
      " Processing Record 341 | kaniama\n",
      " Processing Record 342 | flinders\n",
      " Processing Record 343 | katangli\n",
      " Processing Record 344 | lagoa\n",
      " Processing Record 345 | severnyy\n",
      " Processing Record 346 | isangel\n",
      " Processing Record 347 | banda aceh\n",
      " Processing Record 348 | pierre\n",
      " Processing Record 349 | mpanda\n",
      " Processing Record 350 | beatrice\n",
      " Processing Record 351 | ormara\n",
      " Processing Record 352 | cidreira\n",
      " Processing Record 353 | imeni poliny osipenko\n",
      " Processing Record 354 | yovon\n",
      " Processing Record 355 | asyut\n",
      "City not found. Skipping...\n",
      " Processing Record 356 | krasnoselkup\n",
      " Processing Record 357 | whyalla\n",
      " Processing Record 358 | ninghai\n",
      " Processing Record 359 | muzhi\n",
      " Processing Record 360 | nanpiao\n",
      " Processing Record 361 | port macquarie\n",
      " Processing Record 362 | saint-augustin\n",
      " Processing Record 363 | kamaishi\n",
      " Processing Record 364 | maragogi\n",
      " Processing Record 365 | pringsewu\n",
      " Processing Record 366 | sikasso\n",
      " Processing Record 367 | provideniya\n",
      " Processing Record 368 | avera\n",
      " Processing Record 369 | ampanihy\n",
      " Processing Record 370 | mangochi\n",
      " Processing Record 371 | dandong\n",
      " Processing Record 372 | weyburn\n",
      " Processing Record 373 | gamba\n",
      " Processing Record 374 | luganville\n",
      " Processing Record 375 | bethel\n",
      " Processing Record 376 | hounde\n",
      " Processing Record 377 | juneau\n",
      " Processing Record 378 | najran\n",
      " Processing Record 379 | maningrida\n",
      " Processing Record 380 | roald\n",
      " Processing Record 381 | shumikha\n",
      " Processing Record 382 | nizwa\n",
      " Processing Record 383 | marystown\n",
      "City not found. Skipping...\n",
      " Processing Record 384 | birjand\n",
      " Processing Record 385 | nchelenge\n",
      " Processing Record 386 | ambon\n",
      " Processing Record 387 | casablanca\n",
      " Processing Record 388 | port augusta\n",
      " Processing Record 389 | hasaki\n",
      " Processing Record 390 | kanlagay\n",
      " Processing Record 391 | macae\n",
      " Processing Record 392 | bintulu\n",
      " Processing Record 393 | methoni\n",
      "City not found. Skipping...\n",
      " Processing Record 394 | lorengau\n",
      " Processing Record 395 | mongua\n",
      " Processing Record 396 | kaitangata\n",
      " Processing Record 397 | aljezur\n",
      " Processing Record 398 | umm kaddadah\n",
      " Processing Record 399 | teknaf\n",
      "City not found. Skipping...\n",
      " Processing Record 400 | ust-tsilma\n",
      " Processing Record 401 | kukuna\n",
      " Processing Record 402 | baillif\n",
      " Processing Record 403 | maniitsoq\n",
      " Processing Record 404 | lahij\n",
      " Processing Record 405 | biltine\n",
      " Processing Record 406 | tuktoyaktuk\n",
      "City not found. Skipping...\n",
      " Processing Record 407 | mugla\n",
      " Processing Record 408 | bibiani\n",
      " Processing Record 409 | bukachacha\n",
      " Processing Record 410 | vrangel\n",
      " Processing Record 411 | bardiyah\n",
      " Processing Record 412 | riyadh\n",
      " Processing Record 413 | mishkino\n",
      " Processing Record 414 | larsnes\n",
      " Processing Record 415 | jega\n",
      " Processing Record 416 | segou\n",
      " Processing Record 417 | ribera\n",
      " Processing Record 418 | iqaluit\n",
      " Processing Record 419 | pisco\n",
      " Processing Record 420 | parksville\n",
      " Processing Record 421 | bougouni\n",
      "City not found. Skipping...\n",
      " Processing Record 422 | karla\n",
      " Processing Record 423 | puerto escondido\n",
      " Processing Record 424 | payson\n",
      " Processing Record 425 | soke\n",
      " Processing Record 426 | yamada\n",
      " Processing Record 427 | ozieri\n",
      " Processing Record 428 | pacific grove\n",
      " Processing Record 429 | australind\n",
      " Processing Record 430 | hongjiang\n",
      " Processing Record 431 | gushikawa\n",
      " Processing Record 432 | barbosa ferraz\n",
      " Processing Record 433 | cheyenne\n",
      " Processing Record 434 | navalmoral de la mata\n",
      " Processing Record 435 | ipixuna\n",
      " Processing Record 436 | krasnovishersk\n",
      " Processing Record 437 | aksu\n",
      " Processing Record 438 | akyab\n",
      " Processing Record 439 | mengyin\n",
      "City not found. Skipping...\n",
      " Processing Record 440 | terrace\n",
      " Processing Record 441 | bonthe\n",
      " Processing Record 442 | yiyang\n",
      " Processing Record 443 | egvekinot\n",
      "City not found. Skipping...\n",
      " Processing Record 444 | kouango\n",
      " Processing Record 445 | taoudenni\n",
      " Processing Record 446 | jiwani\n",
      " Processing Record 447 | presidente venceslau\n",
      " Processing Record 448 | port hardy\n",
      " Processing Record 449 | kita\n",
      " Processing Record 450 | oil city\n",
      " Processing Record 451 | sitka\n",
      " Processing Record 452 | talnakh\n",
      " Processing Record 453 | bejar\n"
     ]
    },
    {
     "name": "stdout",
     "output_type": "stream",
     "text": [
      " Processing Record 454 | horizontina\n",
      " Processing Record 455 | nouna\n",
      " Processing Record 456 | cap-aux-meules\n",
      " Processing Record 457 | hohhot\n",
      " Processing Record 458 | channel-port aux basques\n",
      "City not found. Skipping...\n",
      " Processing Record 459 | eenhana\n",
      " Processing Record 460 | izhma\n",
      " Processing Record 461 | comodoro rivadavia\n",
      " Processing Record 462 | andros town\n",
      " Processing Record 463 | sur\n",
      " Processing Record 464 | penzance\n",
      " Processing Record 465 | sorland\n",
      " Processing Record 466 | fushe-arrez\n",
      " Processing Record 467 | kamenka\n",
      " Processing Record 468 | sisimiut\n",
      " Processing Record 469 | banjar\n",
      " Processing Record 470 | acarau\n",
      " Processing Record 471 | tshikapa\n",
      " Processing Record 472 | surt\n",
      " Processing Record 473 | banff\n",
      " Processing Record 474 | kuusamo\n",
      " Processing Record 475 | datong\n",
      " Processing Record 476 | anjozorobe\n",
      "City not found. Skipping...\n",
      " Processing Record 477 | takoradi\n",
      " Processing Record 478 | pasighat\n",
      " Processing Record 479 | jonuta\n",
      " Processing Record 480 | kununurra\n",
      " Processing Record 481 | shubarkuduk\n",
      " Processing Record 482 | shikarpur\n",
      " Processing Record 483 | grand forks\n",
      " Processing Record 484 | verkh-tula\n",
      " Processing Record 485 | westport\n",
      " Processing Record 486 | dingle\n",
      " Processing Record 487 | chara\n",
      " Processing Record 488 | ruginesti\n",
      "City not found. Skipping...\n",
      " Processing Record 489 | nelson bay\n",
      " Processing Record 490 | kangaatsiaq\n",
      " Processing Record 491 | borogontsy\n",
      " Processing Record 492 | acapulco\n",
      " Processing Record 493 | delfzijl\n",
      " Processing Record 494 | aykhal\n",
      " Processing Record 495 | ust-ishim\n",
      " Processing Record 496 | canmore\n",
      " Processing Record 497 | currais novos\n",
      "City not found. Skipping...\n",
      " Processing Record 498 | tromso\n",
      " Processing Record 499 | alice\n",
      " Processing Record 500 | takaungu\n",
      " Processing Record 501 | toccoa\n",
      " Processing Record 502 | mongo\n",
      " Processing Record 503 | meitingen\n",
      " Processing Record 504 | kalangala\n",
      " Processing Record 505 | merauke\n",
      " Processing Record 506 | mahibadhoo\n",
      " Processing Record 507 | san quintin\n",
      " Processing Record 508 | jaca\n",
      " Processing Record 509 | comrat\n",
      " Processing Record 510 | baripada\n",
      " Processing Record 511 | srednekolymsk\n",
      " Processing Record 512 | nouakchott\n",
      " Processing Record 513 | manassas\n",
      " Processing Record 514 | port-cartier\n",
      " Processing Record 515 | atikokan\n",
      " Processing Record 516 | tabou\n",
      " Processing Record 517 | lipovtsy\n",
      " Processing Record 518 | geraldton\n",
      " Processing Record 519 | karasjok\n",
      " Processing Record 520 | arona\n",
      " Processing Record 521 | shirokiy\n",
      " Processing Record 522 | aksaray\n",
      " Processing Record 523 | tianpeng\n",
      " Processing Record 524 | cap malheureux\n",
      " Processing Record 525 | davila\n",
      " Processing Record 526 | batsfjord\n",
      " Processing Record 527 | los llanos de aridane\n",
      " Processing Record 528 | shache\n",
      " Processing Record 529 | tazovskiy\n",
      " Processing Record 530 | rocha\n",
      " Processing Record 531 | abalak\n",
      " Processing Record 532 | nicoya\n",
      " Processing Record 533 | nemuro\n",
      " Processing Record 534 | dehui\n",
      " Processing Record 535 | yining\n",
      " Processing Record 536 | cocobeach\n",
      " Processing Record 537 | yeppoon\n",
      " Processing Record 538 | rundu\n",
      " Processing Record 539 | kahului\n",
      " Processing Record 540 | zacualpan\n",
      " Processing Record 541 | karabulak\n",
      " Processing Record 542 | kenora\n",
      " Processing Record 543 | fortuna\n",
      " Processing Record 544 | padang\n",
      " Processing Record 545 | nueve de julio\n",
      " Processing Record 546 | storforshei\n",
      "City not found. Skipping...\n",
      " Processing Record 547 | ixtapa\n",
      " Processing Record 548 | viedma\n",
      " Processing Record 549 | saucillo\n",
      " Processing Record 550 | deniliquin\n",
      " Processing Record 551 | nalut\n",
      " Processing Record 552 | west bay\n",
      " Processing Record 553 | talcahuano\n",
      " Processing Record 554 | plastun\n",
      " Processing Record 555 | rovenki\n",
      " Processing Record 556 | panaba\n",
      " Processing Record 557 | abeche\n",
      " Processing Record 558 | ust-maya\n",
      " Processing Record 559 | sovetskaya gavan\n",
      " Processing Record 560 | batasan\n",
      " Processing Record 561 | balykshi\n",
      " Processing Record 562 | kajaani\n",
      " Processing Record 563 | lulea\n",
      " Processing Record 564 | kontagora\n",
      " Processing Record 565 | vagay\n",
      " Processing Record 566 | parfenyevo\n",
      " Processing Record 567 | oriximina\n",
      " Processing Record 568 | half moon bay\n",
      " Processing Record 569 | cururupu\n",
      " Processing Record 570 | qaqortoq\n",
      " Processing Record 571 | mahbubabad\n",
      " Processing Record 572 | iralaya\n",
      " Processing Record 573 | zhanaozen\n",
      " Processing Record 574 | naze\n",
      " Processing Record 575 | tezu\n",
      " Processing Record 576 | rosetta\n",
      " Processing Record 577 | lethem\n",
      "City not found. Skipping...\n",
      " Processing Record 578 | motygino\n",
      " Processing Record 579 | bulawayo\n",
      " Processing Record 580 | bowen\n",
      " Processing Record 581 | clarence town\n",
      " Processing Record 582 | juba\n",
      " Processing Record 583 | malpe\n",
      " Processing Record 584 | yarada\n",
      " Processing Record 585 | bunia\n",
      " Processing Record 586 | wakkanai\n",
      " Processing Record 587 | honiara\n",
      " Processing Record 588 | mangai\n",
      " Processing Record 589 | wawa\n",
      " Processing Record 590 | ambilobe\n",
      " Processing Record 591 | assiniboia\n",
      " Processing Record 592 | chapais\n",
      " Processing Record 593 | bela\n",
      " Processing Record 594 | innisfail\n",
      " Processing Record 595 | korba\n",
      " Processing Record 596 | aklavik\n"
     ]
    }
   ],
   "source": [
    "# creating a blank list for these variables \n",
    "city_name = []\n",
    "lat = []\n",
    "lng = []\n",
    "max_temperature = []\n",
    "humidity = []\n",
    "cloudiness = []\n",
    "wind_speed = []\n",
    "country = []\n",
    "date = []\n",
    "\n",
    "weather_url = \"http://api.openweathermap.org/data/2.5/weather?\"\n",
    "\n",
    "# starting the loop\n",
    "# imperial syntax will give weather in F \n",
    "# &q= queries of the city \n",
    "# slicing the city by using [0:2], means we are slicing into 2 cities -> for city in cities[0:2]:\n",
    "# use pprint to list it in a nicer form\n",
    "# time.sleep is running 1.1 second of pause so we dont go over limit of 600 calls per minutes \n",
    "print(\"Beginning Data Retrieval\")     \n",
    "print(\"-----------------------------\")\n",
    "\n",
    "record = 1\n",
    "\n",
    "for city in cities:\n",
    "        url = weather_url + \"appid=\" +  weather_api_key + \"&q=\" + city + \"&units=imperial\"\n",
    "        response = requests.get(url).json()\n",
    "    #     pprint(response)\n",
    "        try:\n",
    "            time.sleep(1.1)\n",
    "            city_name.append(response[\"name\"])\n",
    "            lat.append(response[\"coord\"][\"lat\"])\n",
    "            lng.append(response[\"coord\"][\"lon\"])\n",
    "            max_temperature.append(response[\"main\"][\"temp_max\"])\n",
    "            humidity.append(response[\"main\"][\"humidity\"])\n",
    "            cloudiness.append(response[\"clouds\"][\"all\"])\n",
    "            wind_speed.append(response[\"wind\"][\"speed\"])\n",
    "            country.append(response[\"sys\"][\"country\"])\n",
    "            date.append(response[\"dt\"])\n",
    "            print(f\" Processing Record {record} | {city}\") \n",
    "            record +=1\n",
    "        except: \n",
    "            print(\"City not found. Skipping...\")\n",
    "\n",
    "# loop will break if the city isnt in the weather map\n",
    "\n"
   ]
  },
  {
   "cell_type": "markdown",
   "metadata": {},
   "source": [
    "### Convert Raw Data to DataFrame\n",
    "* Export the city data into a .csv.\n",
    "* Display the DataFrame"
   ]
  },
  {
   "cell_type": "code",
   "execution_count": 5,
   "metadata": {
    "scrolled": true
   },
   "outputs": [
    {
     "data": {
      "text/html": [
       "<div>\n",
       "<style scoped>\n",
       "    .dataframe tbody tr th:only-of-type {\n",
       "        vertical-align: middle;\n",
       "    }\n",
       "\n",
       "    .dataframe tbody tr th {\n",
       "        vertical-align: top;\n",
       "    }\n",
       "\n",
       "    .dataframe thead th {\n",
       "        text-align: right;\n",
       "    }\n",
       "</style>\n",
       "<table border=\"1\" class=\"dataframe\">\n",
       "  <thead>\n",
       "    <tr style=\"text-align: right;\">\n",
       "      <th></th>\n",
       "      <th>City</th>\n",
       "      <th>Lat</th>\n",
       "      <th>Lng</th>\n",
       "      <th>Max Temp</th>\n",
       "      <th>Humidity</th>\n",
       "      <th>Cloudiness</th>\n",
       "      <th>Wind Speed</th>\n",
       "      <th>Country</th>\n",
       "      <th>Date</th>\n",
       "    </tr>\n",
       "  </thead>\n",
       "  <tbody>\n",
       "    <tr>\n",
       "      <th>0</th>\n",
       "      <td>Richards Bay</td>\n",
       "      <td>-28.78</td>\n",
       "      <td>32.04</td>\n",
       "      <td>70.50</td>\n",
       "      <td>87</td>\n",
       "      <td>93</td>\n",
       "      <td>4.18</td>\n",
       "      <td>ZA</td>\n",
       "      <td>1606087303</td>\n",
       "    </tr>\n",
       "    <tr>\n",
       "      <th>1</th>\n",
       "      <td>Khatanga</td>\n",
       "      <td>71.97</td>\n",
       "      <td>102.50</td>\n",
       "      <td>14.92</td>\n",
       "      <td>96</td>\n",
       "      <td>100</td>\n",
       "      <td>20.38</td>\n",
       "      <td>RU</td>\n",
       "      <td>1606087379</td>\n",
       "    </tr>\n",
       "    <tr>\n",
       "      <th>2</th>\n",
       "      <td>Bredasdorp</td>\n",
       "      <td>-34.53</td>\n",
       "      <td>20.04</td>\n",
       "      <td>60.80</td>\n",
       "      <td>87</td>\n",
       "      <td>26</td>\n",
       "      <td>3.36</td>\n",
       "      <td>ZA</td>\n",
       "      <td>1606087229</td>\n",
       "    </tr>\n",
       "    <tr>\n",
       "      <th>3</th>\n",
       "      <td>Korla</td>\n",
       "      <td>41.76</td>\n",
       "      <td>86.15</td>\n",
       "      <td>18.10</td>\n",
       "      <td>80</td>\n",
       "      <td>40</td>\n",
       "      <td>3.47</td>\n",
       "      <td>CN</td>\n",
       "      <td>1606087382</td>\n",
       "    </tr>\n",
       "    <tr>\n",
       "      <th>4</th>\n",
       "      <td>Tasiilaq</td>\n",
       "      <td>65.61</td>\n",
       "      <td>-37.64</td>\n",
       "      <td>21.20</td>\n",
       "      <td>85</td>\n",
       "      <td>46</td>\n",
       "      <td>2.24</td>\n",
       "      <td>GL</td>\n",
       "      <td>1606087383</td>\n",
       "    </tr>\n",
       "    <tr>\n",
       "      <th>...</th>\n",
       "      <td>...</td>\n",
       "      <td>...</td>\n",
       "      <td>...</td>\n",
       "      <td>...</td>\n",
       "      <td>...</td>\n",
       "      <td>...</td>\n",
       "      <td>...</td>\n",
       "      <td>...</td>\n",
       "      <td>...</td>\n",
       "    </tr>\n",
       "    <tr>\n",
       "      <th>591</th>\n",
       "      <td>Chapais</td>\n",
       "      <td>49.78</td>\n",
       "      <td>-74.85</td>\n",
       "      <td>17.60</td>\n",
       "      <td>85</td>\n",
       "      <td>75</td>\n",
       "      <td>6.93</td>\n",
       "      <td>CA</td>\n",
       "      <td>1606088223</td>\n",
       "    </tr>\n",
       "    <tr>\n",
       "      <th>592</th>\n",
       "      <td>Bela</td>\n",
       "      <td>25.93</td>\n",
       "      <td>81.98</td>\n",
       "      <td>56.48</td>\n",
       "      <td>37</td>\n",
       "      <td>38</td>\n",
       "      <td>2.59</td>\n",
       "      <td>IN</td>\n",
       "      <td>1606088224</td>\n",
       "    </tr>\n",
       "    <tr>\n",
       "      <th>593</th>\n",
       "      <td>Innisfail</td>\n",
       "      <td>-17.53</td>\n",
       "      <td>146.03</td>\n",
       "      <td>77.00</td>\n",
       "      <td>60</td>\n",
       "      <td>15</td>\n",
       "      <td>8.01</td>\n",
       "      <td>AU</td>\n",
       "      <td>1606088225</td>\n",
       "    </tr>\n",
       "    <tr>\n",
       "      <th>594</th>\n",
       "      <td>Korba</td>\n",
       "      <td>22.35</td>\n",
       "      <td>82.68</td>\n",
       "      <td>54.90</td>\n",
       "      <td>48</td>\n",
       "      <td>0</td>\n",
       "      <td>5.14</td>\n",
       "      <td>IN</td>\n",
       "      <td>1606088227</td>\n",
       "    </tr>\n",
       "    <tr>\n",
       "      <th>595</th>\n",
       "      <td>Aklavik</td>\n",
       "      <td>68.22</td>\n",
       "      <td>-135.01</td>\n",
       "      <td>3.20</td>\n",
       "      <td>84</td>\n",
       "      <td>93</td>\n",
       "      <td>11.41</td>\n",
       "      <td>CA</td>\n",
       "      <td>1606088228</td>\n",
       "    </tr>\n",
       "  </tbody>\n",
       "</table>\n",
       "<p>596 rows × 9 columns</p>\n",
       "</div>"
      ],
      "text/plain": [
       "             City    Lat     Lng  Max Temp  Humidity  Cloudiness  Wind Speed  \\\n",
       "0    Richards Bay -28.78   32.04     70.50        87          93        4.18   \n",
       "1        Khatanga  71.97  102.50     14.92        96         100       20.38   \n",
       "2      Bredasdorp -34.53   20.04     60.80        87          26        3.36   \n",
       "3           Korla  41.76   86.15     18.10        80          40        3.47   \n",
       "4        Tasiilaq  65.61  -37.64     21.20        85          46        2.24   \n",
       "..            ...    ...     ...       ...       ...         ...         ...   \n",
       "591       Chapais  49.78  -74.85     17.60        85          75        6.93   \n",
       "592          Bela  25.93   81.98     56.48        37          38        2.59   \n",
       "593     Innisfail -17.53  146.03     77.00        60          15        8.01   \n",
       "594         Korba  22.35   82.68     54.90        48           0        5.14   \n",
       "595       Aklavik  68.22 -135.01      3.20        84          93       11.41   \n",
       "\n",
       "    Country        Date  \n",
       "0        ZA  1606087303  \n",
       "1        RU  1606087379  \n",
       "2        ZA  1606087229  \n",
       "3        CN  1606087382  \n",
       "4        GL  1606087383  \n",
       "..      ...         ...  \n",
       "591      CA  1606088223  \n",
       "592      IN  1606088224  \n",
       "593      AU  1606088225  \n",
       "594      IN  1606088227  \n",
       "595      CA  1606088228  \n",
       "\n",
       "[596 rows x 9 columns]"
      ]
     },
     "execution_count": 5,
     "metadata": {},
     "output_type": "execute_result"
    }
   ],
   "source": [
    "#creating the dataframe \n",
    "\n",
    "weather_1_df = pd.DataFrame({\n",
    "                            \"City\": city_name,\n",
    "                            \"Lat\": lat,\n",
    "                            \"Lng\": lng,\n",
    "                            \"Max Temp\": max_temperature,\n",
    "                            \"Humidity\": humidity,\n",
    "                            \"Cloudiness\": cloudiness,\n",
    "                            \"Wind Speed\": wind_speed,\n",
    "                            \"Country\": country,\n",
    "                            \"Date\": date})\n",
    "\n",
    "weather_1_df.head()\n",
    "\n",
    "# Save data frame to CSV\n",
    "weather_1_df.to_csv(\"weather_data_final.csv\", encoding=\"utf-8\", index=False)\n",
    "weather_1_df"
   ]
  },
  {
   "cell_type": "code",
   "execution_count": 6,
   "metadata": {},
   "outputs": [],
   "source": [
    "#drop out null value, just in case there is one\n",
    "weather_1_df.dropna(inplace = True) \n",
    "# weather_1_df.head()"
   ]
  },
  {
   "cell_type": "code",
   "execution_count": 7,
   "metadata": {},
   "outputs": [
    {
     "data": {
      "text/html": [
       "<div>\n",
       "<style scoped>\n",
       "    .dataframe tbody tr th:only-of-type {\n",
       "        vertical-align: middle;\n",
       "    }\n",
       "\n",
       "    .dataframe tbody tr th {\n",
       "        vertical-align: top;\n",
       "    }\n",
       "\n",
       "    .dataframe thead th {\n",
       "        text-align: right;\n",
       "    }\n",
       "</style>\n",
       "<table border=\"1\" class=\"dataframe\">\n",
       "  <thead>\n",
       "    <tr style=\"text-align: right;\">\n",
       "      <th></th>\n",
       "      <th>Lat</th>\n",
       "      <th>Lng</th>\n",
       "      <th>Max Temp</th>\n",
       "      <th>Humidity</th>\n",
       "      <th>Cloudiness</th>\n",
       "      <th>Wind Speed</th>\n",
       "      <th>Date</th>\n",
       "    </tr>\n",
       "  </thead>\n",
       "  <tbody>\n",
       "    <tr>\n",
       "      <th>count</th>\n",
       "      <td>596.000000</td>\n",
       "      <td>596.000000</td>\n",
       "      <td>596.000000</td>\n",
       "      <td>596.000000</td>\n",
       "      <td>596.000000</td>\n",
       "      <td>596.000000</td>\n",
       "      <td>5.960000e+02</td>\n",
       "    </tr>\n",
       "    <tr>\n",
       "      <th>mean</th>\n",
       "      <td>21.215671</td>\n",
       "      <td>23.162131</td>\n",
       "      <td>53.402617</td>\n",
       "      <td>75.669463</td>\n",
       "      <td>53.785235</td>\n",
       "      <td>7.470638</td>\n",
       "      <td>1.606088e+09</td>\n",
       "    </tr>\n",
       "    <tr>\n",
       "      <th>std</th>\n",
       "      <td>32.625824</td>\n",
       "      <td>89.037432</td>\n",
       "      <td>26.025401</td>\n",
       "      <td>19.006495</td>\n",
       "      <td>39.126954</td>\n",
       "      <td>5.401519</td>\n",
       "      <td>2.619606e+02</td>\n",
       "    </tr>\n",
       "    <tr>\n",
       "      <th>min</th>\n",
       "      <td>-54.800000</td>\n",
       "      <td>-179.170000</td>\n",
       "      <td>-24.500000</td>\n",
       "      <td>1.000000</td>\n",
       "      <td>0.000000</td>\n",
       "      <td>0.020000</td>\n",
       "      <td>1.606087e+09</td>\n",
       "    </tr>\n",
       "    <tr>\n",
       "      <th>25%</th>\n",
       "      <td>-3.862500</td>\n",
       "      <td>-53.077500</td>\n",
       "      <td>32.000000</td>\n",
       "      <td>68.750000</td>\n",
       "      <td>13.750000</td>\n",
       "      <td>3.485000</td>\n",
       "      <td>1.606088e+09</td>\n",
       "    </tr>\n",
       "    <tr>\n",
       "      <th>50%</th>\n",
       "      <td>25.595000</td>\n",
       "      <td>26.790000</td>\n",
       "      <td>60.880000</td>\n",
       "      <td>81.000000</td>\n",
       "      <td>63.500000</td>\n",
       "      <td>6.025000</td>\n",
       "      <td>1.606088e+09</td>\n",
       "    </tr>\n",
       "    <tr>\n",
       "      <th>75%</th>\n",
       "      <td>48.197500</td>\n",
       "      <td>104.092500</td>\n",
       "      <td>75.287500</td>\n",
       "      <td>89.000000</td>\n",
       "      <td>90.000000</td>\n",
       "      <td>10.290000</td>\n",
       "      <td>1.606088e+09</td>\n",
       "    </tr>\n",
       "    <tr>\n",
       "      <th>max</th>\n",
       "      <td>78.220000</td>\n",
       "      <td>179.320000</td>\n",
       "      <td>93.200000</td>\n",
       "      <td>100.000000</td>\n",
       "      <td>100.000000</td>\n",
       "      <td>44.740000</td>\n",
       "      <td>1.606088e+09</td>\n",
       "    </tr>\n",
       "  </tbody>\n",
       "</table>\n",
       "</div>"
      ],
      "text/plain": [
       "              Lat         Lng    Max Temp    Humidity  Cloudiness  Wind Speed  \\\n",
       "count  596.000000  596.000000  596.000000  596.000000  596.000000  596.000000   \n",
       "mean    21.215671   23.162131   53.402617   75.669463   53.785235    7.470638   \n",
       "std     32.625824   89.037432   26.025401   19.006495   39.126954    5.401519   \n",
       "min    -54.800000 -179.170000  -24.500000    1.000000    0.000000    0.020000   \n",
       "25%     -3.862500  -53.077500   32.000000   68.750000   13.750000    3.485000   \n",
       "50%     25.595000   26.790000   60.880000   81.000000   63.500000    6.025000   \n",
       "75%     48.197500  104.092500   75.287500   89.000000   90.000000   10.290000   \n",
       "max     78.220000  179.320000   93.200000  100.000000  100.000000   44.740000   \n",
       "\n",
       "               Date  \n",
       "count  5.960000e+02  \n",
       "mean   1.606088e+09  \n",
       "std    2.619606e+02  \n",
       "min    1.606087e+09  \n",
       "25%    1.606088e+09  \n",
       "50%    1.606088e+09  \n",
       "75%    1.606088e+09  \n",
       "max    1.606088e+09  "
      ]
     },
     "execution_count": 7,
     "metadata": {},
     "output_type": "execute_result"
    }
   ],
   "source": [
    "weather_1_df.describe()\n"
   ]
  },
  {
   "cell_type": "markdown",
   "metadata": {},
   "source": [
    "## Inspect the data and remove the cities where the humidity > 100%.\n",
    "----\n",
    "Skip this step if there are no cities that have humidity > 100%. "
   ]
  },
  {
   "cell_type": "code",
   "execution_count": 8,
   "metadata": {},
   "outputs": [
    {
     "data": {
      "text/html": [
       "<div>\n",
       "<style scoped>\n",
       "    .dataframe tbody tr th:only-of-type {\n",
       "        vertical-align: middle;\n",
       "    }\n",
       "\n",
       "    .dataframe tbody tr th {\n",
       "        vertical-align: top;\n",
       "    }\n",
       "\n",
       "    .dataframe thead th {\n",
       "        text-align: right;\n",
       "    }\n",
       "</style>\n",
       "<table border=\"1\" class=\"dataframe\">\n",
       "  <thead>\n",
       "    <tr style=\"text-align: right;\">\n",
       "      <th></th>\n",
       "      <th>City</th>\n",
       "      <th>Lat</th>\n",
       "      <th>Lng</th>\n",
       "      <th>Max Temp</th>\n",
       "      <th>Humidity</th>\n",
       "      <th>Cloudiness</th>\n",
       "      <th>Wind Speed</th>\n",
       "      <th>Country</th>\n",
       "      <th>Date</th>\n",
       "    </tr>\n",
       "  </thead>\n",
       "  <tbody>\n",
       "  </tbody>\n",
       "</table>\n",
       "</div>"
      ],
      "text/plain": [
       "Empty DataFrame\n",
       "Columns: [City, Lat, Lng, Max Temp, Humidity, Cloudiness, Wind Speed, Country, Date]\n",
       "Index: []"
      ]
     },
     "execution_count": 8,
     "metadata": {},
     "output_type": "execute_result"
    }
   ],
   "source": [
    "\n",
    "\n",
    "weather_1_df.loc[weather_1_df['Humidity'] > 100]\n",
    "\n",
    "#no cities that have humidity >100%\n"
   ]
  },
  {
   "cell_type": "code",
   "execution_count": 9,
   "metadata": {},
   "outputs": [],
   "source": [
    "#  Get the indices of cities that have humidity over 100%.\n"
   ]
  },
  {
   "cell_type": "code",
   "execution_count": 10,
   "metadata": {},
   "outputs": [],
   "source": [
    "# Make a new DataFrame equal to the city data to drop all humidity outliers by index.\n",
    "# Passing \"inplace=False\" will make a copy of the city_data DataFrame, which we call \"clean_city_data\".\n",
    "\n"
   ]
  },
  {
   "cell_type": "markdown",
   "metadata": {},
   "source": [
    "## Plotting the Data\n",
    "* Use proper labeling of the plots using plot titles (including date of analysis) and axes labels.\n",
    "* Save the plotted figures as .pngs."
   ]
  },
  {
   "cell_type": "markdown",
   "metadata": {},
   "source": [
    "## Latitude vs. Temperature Plot"
   ]
  },
  {
   "cell_type": "code",
   "execution_count": 49,
   "metadata": {
    "scrolled": true
   },
   "outputs": [
    {
     "name": "stdout",
     "output_type": "stream",
     "text": [
      "11/22/2020\n"
     ]
    },
    {
     "data": {
      "image/png": "[encoded data removed]",
      "text/plain": [
       "<Figure size 432x288 with 1 Axes>"
      ]
     },
     "metadata": {
      "needs_background": "light"
     },
     "output_type": "display_data"
    }
   ],
   "source": [
    "# displaying today's date by using datetime syntax \n",
    "from datetime import datetime\n",
    "thistime = datetime.now().strftime(\"%m/%d/%Y\")\n",
    "print(thistime)\n",
    "\n",
    "\n",
    "# Setting up the X and Y axis \n",
    "x_axis = weather_1_df['Lat']\n",
    "y_axis = weather_1_df['Max Temp']\n",
    "\n",
    "# making a scatter plot\n",
    "plt.scatter(x_axis, y_axis, edgecolors=\"black\")\n",
    "\n",
    "# giving the name to the x and y label\n",
    "plt.xlabel(\"Latitude\")\n",
    "plt.ylabel(\"Max Temperature (F)\")\n",
    "\n",
    "# adding the grid\n",
    "plt.grid()\n",
    "\n",
    "# adding the title and today's date\n",
    "plt.title(\"City Latitude Vs. Temperature \" +thistime+\"\")\n",
    "\n",
    "plt.savefig('Latitude-Temperature.jpg')"
   ]
  },
  {
   "cell_type": "markdown",
   "metadata": {},
   "source": [
    "## Latitude vs. Humidity Plot"
   ]
  },
  {
   "cell_type": "code",
   "execution_count": 50,
   "metadata": {},
   "outputs": [
    {
     "data": {
      "image/png": "[encoded data removed]",
      "text/plain": [
       "<Figure size 432x288 with 1 Axes>"
      ]
     },
     "metadata": {
      "needs_background": "light"
     },
     "output_type": "display_data"
    }
   ],
   "source": [
    "# Setting up the X and Y axis \n",
    "x_axis = weather_1_df['Lat']\n",
    "y_axis = weather_1_df['Humidity']\n",
    "\n",
    "# making a scatter plot\n",
    "plt.scatter(x_axis, y_axis, edgecolors=\"black\")\n",
    "\n",
    "# giving the name to the x and y label\n",
    "plt.xlabel('Latitude')\n",
    "plt.ylabel('Humidity (%)')\n",
    "\n",
    "# adding the grid\n",
    "plt.grid()\n",
    "\n",
    "# adding the title and today's date\n",
    "plt.title(\"City Latitude Vs. Humidity \" +thistime+\"\")\n",
    "\n",
    "plt.savefig('Latitude-Humidity.jpg')\n"
   ]
  },
  {
   "cell_type": "markdown",
   "metadata": {},
   "source": [
    "## Latitude vs. Cloudiness Plot"
   ]
  },
  {
   "cell_type": "code",
   "execution_count": 51,
   "metadata": {},
   "outputs": [
    {
     "data": {
      "image/png": "[encoded data removed]",
      "text/plain": [
       "<Figure size 432x288 with 1 Axes>"
      ]
     },
     "metadata": {
      "needs_background": "light"
     },
     "output_type": "display_data"
    }
   ],
   "source": [
    "# Setting up the X and Y axis \n",
    "x_axis = weather_1_df['Lat']\n",
    "y_axis = weather_1_df['Cloudiness']\n",
    "\n",
    "# making a scatter plot\n",
    "plt.scatter(x_axis, y_axis, edgecolors=\"black\")\n",
    "\n",
    "# giving the name to the x and y label\n",
    "plt.xlabel('Latitude')\n",
    "plt.ylabel('Cloudiness (%)')\n",
    "\n",
    "# adding the grid\n",
    "plt.grid()\n",
    "\n",
    "# adding the title and today's date\n",
    "plt.title(\"City Latitude Vs. Cloudiness \" +thistime+\"\")\n",
    "\n",
    "\n",
    "plt.savefig('Latitude-Cloudiness.jpg')\n"
   ]
  },
  {
   "cell_type": "markdown",
   "metadata": {},
   "source": [
    "## Latitude vs. Wind Speed Plot"
   ]
  },
  {
   "cell_type": "code",
   "execution_count": 52,
   "metadata": {},
   "outputs": [
    {
     "data": {
      "image/png": "[encoded data removed]",
      "text/plain": [
       "<Figure size 432x288 with 1 Axes>"
      ]
     },
     "metadata": {
      "needs_background": "light"
     },
     "output_type": "display_data"
    }
   ],
   "source": [
    "# Setting up the X and Y axis \n",
    "x_axis = weather_1_df['Lat']\n",
    "y_axis = weather_1_df['Wind Speed']\n",
    "\n",
    "# making a scatter plot\n",
    "plt.scatter(x_axis, y_axis, edgecolors=\"black\")\n",
    "\n",
    "# giving the name to the x and y label\n",
    "plt.xlabel('Latitude')\n",
    "plt.ylabel('Wind Speed (mph)')\n",
    "\n",
    "# adding the grid\n",
    "plt.grid()\n",
    "\n",
    "# adding the title and today's date\n",
    "plt.title(\"City Latitude Vs. Wind Speed \" +thistime+\"\")\n",
    "\n",
    "plt.savefig('Latitude-Wind Speed.jpg')\n",
    "\n"
   ]
  },
  {
   "cell_type": "markdown",
   "metadata": {},
   "source": [
    "## Linear Regression"
   ]
  },
  {
   "cell_type": "code",
   "execution_count": 16,
   "metadata": {},
   "outputs": [],
   "source": [
    "import scipy.stats as st"
   ]
  },
  {
   "cell_type": "markdown",
   "metadata": {},
   "source": [
    "####  Northern Hemisphere - Max Temp vs. Latitude Linear Regression"
   ]
  },
  {
   "cell_type": "code",
   "execution_count": 22,
   "metadata": {},
   "outputs": [
    {
     "data": {
      "text/html": [
       "<div>\n",
       "<style scoped>\n",
       "    .dataframe tbody tr th:only-of-type {\n",
       "        vertical-align: middle;\n",
       "    }\n",
       "\n",
       "    .dataframe tbody tr th {\n",
       "        vertical-align: top;\n",
       "    }\n",
       "\n",
       "    .dataframe thead th {\n",
       "        text-align: right;\n",
       "    }\n",
       "</style>\n",
       "<table border=\"1\" class=\"dataframe\">\n",
       "  <thead>\n",
       "    <tr style=\"text-align: right;\">\n",
       "      <th></th>\n",
       "      <th>City</th>\n",
       "      <th>Lat</th>\n",
       "      <th>Lng</th>\n",
       "      <th>Max Temp</th>\n",
       "      <th>Humidity</th>\n",
       "      <th>Cloudiness</th>\n",
       "      <th>Wind Speed</th>\n",
       "      <th>Country</th>\n",
       "      <th>Date</th>\n",
       "    </tr>\n",
       "  </thead>\n",
       "  <tbody>\n",
       "    <tr>\n",
       "      <th>1</th>\n",
       "      <td>Khatanga</td>\n",
       "      <td>71.97</td>\n",
       "      <td>102.50</td>\n",
       "      <td>14.92</td>\n",
       "      <td>96</td>\n",
       "      <td>100</td>\n",
       "      <td>20.38</td>\n",
       "      <td>RU</td>\n",
       "      <td>1606087379</td>\n",
       "    </tr>\n",
       "    <tr>\n",
       "      <th>3</th>\n",
       "      <td>Korla</td>\n",
       "      <td>41.76</td>\n",
       "      <td>86.15</td>\n",
       "      <td>18.10</td>\n",
       "      <td>80</td>\n",
       "      <td>40</td>\n",
       "      <td>3.47</td>\n",
       "      <td>CN</td>\n",
       "      <td>1606087382</td>\n",
       "    </tr>\n",
       "    <tr>\n",
       "      <th>4</th>\n",
       "      <td>Tasiilaq</td>\n",
       "      <td>65.61</td>\n",
       "      <td>-37.64</td>\n",
       "      <td>21.20</td>\n",
       "      <td>85</td>\n",
       "      <td>46</td>\n",
       "      <td>2.24</td>\n",
       "      <td>GL</td>\n",
       "      <td>1606087383</td>\n",
       "    </tr>\n",
       "    <tr>\n",
       "      <th>5</th>\n",
       "      <td>Albany</td>\n",
       "      <td>42.60</td>\n",
       "      <td>-73.97</td>\n",
       "      <td>39.00</td>\n",
       "      <td>68</td>\n",
       "      <td>100</td>\n",
       "      <td>9.82</td>\n",
       "      <td>US</td>\n",
       "      <td>1606087384</td>\n",
       "    </tr>\n",
       "    <tr>\n",
       "      <th>6</th>\n",
       "      <td>Chokurdakh</td>\n",
       "      <td>70.63</td>\n",
       "      <td>147.92</td>\n",
       "      <td>1.22</td>\n",
       "      <td>94</td>\n",
       "      <td>100</td>\n",
       "      <td>7.31</td>\n",
       "      <td>RU</td>\n",
       "      <td>1606087247</td>\n",
       "    </tr>\n",
       "  </tbody>\n",
       "</table>\n",
       "</div>"
      ],
      "text/plain": [
       "         City    Lat     Lng  Max Temp  Humidity  Cloudiness  Wind Speed  \\\n",
       "1    Khatanga  71.97  102.50     14.92        96         100       20.38   \n",
       "3       Korla  41.76   86.15     18.10        80          40        3.47   \n",
       "4    Tasiilaq  65.61  -37.64     21.20        85          46        2.24   \n",
       "5      Albany  42.60  -73.97     39.00        68         100        9.82   \n",
       "6  Chokurdakh  70.63  147.92      1.22        94         100        7.31   \n",
       "\n",
       "  Country        Date  \n",
       "1      RU  1606087379  \n",
       "3      CN  1606087382  \n",
       "4      GL  1606087383  \n",
       "5      US  1606087384  \n",
       "6      RU  1606087247  "
      ]
     },
     "execution_count": 22,
     "metadata": {},
     "output_type": "execute_result"
    }
   ],
   "source": [
    "# Making new dataframe to filter out the data based on Northern and Southern Hemisphere\n",
    "\n",
    "# Northern Hemisphere will have positive latitude, thus latitude > 0\n",
    "northern_hemisphere_df = weather_1_df.loc[weather_1_df[\"Lat\"] >= 0]\n",
    "# this code will extract all the cities that were in Northern Hemisphere- 423 cities\n",
    "northern_hemisphere_df.head()\n"
   ]
  },
  {
   "cell_type": "code",
   "execution_count": 53,
   "metadata": {},
   "outputs": [
    {
     "name": "stdout",
     "output_type": "stream",
     "text": [
      "The r-value is: -0.87\n"
     ]
    },
    {
     "data": {
      "image/png": "[encoded data removed]",
      "text/plain": [
       "<Figure size 432x288 with 1 Axes>"
      ]
     },
     "metadata": {
      "needs_background": "light"
     },
     "output_type": "display_data"
    },
    {
     "data": {
      "text/plain": [
       "<Figure size 432x288 with 0 Axes>"
      ]
     },
     "metadata": {},
     "output_type": "display_data"
    }
   ],
   "source": [
    "# Setting up x and y axis \n",
    "x_axis = northern_hemisphere_df['Lat']\n",
    "y_axis = northern_hemisphere_df['Max Temp']\n",
    "\n",
    "# giving the name to the x and y label\n",
    "plt.xlabel(\"Latitude\")\n",
    "plt.ylabel(\"Max Temperature (F)\")\n",
    "\n",
    "# finding the correlation \n",
    "correlation = st.pearsonr(x_axis, y_axis)\n",
    "correlation\n",
    "print(f\"The r-value is: {round(correlation[0],2)}\")\n",
    "\n",
    "# go back up and add this (if you have not done so at the beginning) -> import scipy.stats as st\n",
    "\n",
    "(slope, intercept, rvalue, pvalue, stderr) = linregress(x_axis, y_axis)\n",
    "regress_values = x_axis * slope + intercept\n",
    "line_eq = \"y = \" + str(round(slope,2)) + \"x + \" + str(round(intercept,2))\n",
    "plt.scatter(x_axis, y_axis)\n",
    "plt.plot(x_axis,regress_values,\"r-\")\n",
    "# the code below is to show the line equation\n",
    "plt.annotate(line_eq,(0,-20),fontsize=15,color=\"red\")\n",
    "plt.show()\n",
    "\n",
    "plt.savefig('Northern-Latitude-Temperature.jpg')"
   ]
  },
  {
   "cell_type": "markdown",
   "metadata": {},
   "source": [
    "####  Southern Hemisphere - Max Temp vs. Latitude Linear Regression"
   ]
  },
  {
   "cell_type": "code",
   "execution_count": 28,
   "metadata": {},
   "outputs": [
    {
     "data": {
      "text/html": [
       "<div>\n",
       "<style scoped>\n",
       "    .dataframe tbody tr th:only-of-type {\n",
       "        vertical-align: middle;\n",
       "    }\n",
       "\n",
       "    .dataframe tbody tr th {\n",
       "        vertical-align: top;\n",
       "    }\n",
       "\n",
       "    .dataframe thead th {\n",
       "        text-align: right;\n",
       "    }\n",
       "</style>\n",
       "<table border=\"1\" class=\"dataframe\">\n",
       "  <thead>\n",
       "    <tr style=\"text-align: right;\">\n",
       "      <th></th>\n",
       "      <th>City</th>\n",
       "      <th>Lat</th>\n",
       "      <th>Lng</th>\n",
       "      <th>Max Temp</th>\n",
       "      <th>Humidity</th>\n",
       "      <th>Cloudiness</th>\n",
       "      <th>Wind Speed</th>\n",
       "      <th>Country</th>\n",
       "      <th>Date</th>\n",
       "    </tr>\n",
       "  </thead>\n",
       "  <tbody>\n",
       "    <tr>\n",
       "      <th>0</th>\n",
       "      <td>Richards Bay</td>\n",
       "      <td>-28.78</td>\n",
       "      <td>32.04</td>\n",
       "      <td>70.50</td>\n",
       "      <td>87</td>\n",
       "      <td>93</td>\n",
       "      <td>4.18</td>\n",
       "      <td>ZA</td>\n",
       "      <td>1606087303</td>\n",
       "    </tr>\n",
       "    <tr>\n",
       "      <th>2</th>\n",
       "      <td>Bredasdorp</td>\n",
       "      <td>-34.53</td>\n",
       "      <td>20.04</td>\n",
       "      <td>60.80</td>\n",
       "      <td>87</td>\n",
       "      <td>26</td>\n",
       "      <td>3.36</td>\n",
       "      <td>ZA</td>\n",
       "      <td>1606087229</td>\n",
       "    </tr>\n",
       "    <tr>\n",
       "      <th>11</th>\n",
       "      <td>Broken Hill</td>\n",
       "      <td>-31.95</td>\n",
       "      <td>141.43</td>\n",
       "      <td>71.60</td>\n",
       "      <td>78</td>\n",
       "      <td>100</td>\n",
       "      <td>21.92</td>\n",
       "      <td>AU</td>\n",
       "      <td>1606087393</td>\n",
       "    </tr>\n",
       "    <tr>\n",
       "      <th>14</th>\n",
       "      <td>Port Lincoln</td>\n",
       "      <td>-34.73</td>\n",
       "      <td>135.87</td>\n",
       "      <td>62.58</td>\n",
       "      <td>66</td>\n",
       "      <td>49</td>\n",
       "      <td>16.11</td>\n",
       "      <td>AU</td>\n",
       "      <td>1606087397</td>\n",
       "    </tr>\n",
       "    <tr>\n",
       "      <th>15</th>\n",
       "      <td>Carnarvon</td>\n",
       "      <td>-24.87</td>\n",
       "      <td>113.63</td>\n",
       "      <td>73.40</td>\n",
       "      <td>78</td>\n",
       "      <td>0</td>\n",
       "      <td>11.41</td>\n",
       "      <td>AU</td>\n",
       "      <td>1606087259</td>\n",
       "    </tr>\n",
       "  </tbody>\n",
       "</table>\n",
       "</div>"
      ],
      "text/plain": [
       "            City    Lat     Lng  Max Temp  Humidity  Cloudiness  Wind Speed  \\\n",
       "0   Richards Bay -28.78   32.04     70.50        87          93        4.18   \n",
       "2     Bredasdorp -34.53   20.04     60.80        87          26        3.36   \n",
       "11   Broken Hill -31.95  141.43     71.60        78         100       21.92   \n",
       "14  Port Lincoln -34.73  135.87     62.58        66          49       16.11   \n",
       "15     Carnarvon -24.87  113.63     73.40        78           0       11.41   \n",
       "\n",
       "   Country        Date  \n",
       "0       ZA  1606087303  \n",
       "2       ZA  1606087229  \n",
       "11      AU  1606087393  \n",
       "14      AU  1606087397  \n",
       "15      AU  1606087259  "
      ]
     },
     "execution_count": 28,
     "metadata": {},
     "output_type": "execute_result"
    }
   ],
   "source": [
    "# Southern Hemisphere will have negative latitude, thus latitude <= 0\n",
    "southern_hemisphere_df = weather_1_df.loc[weather_1_df[\"Lat\"] <= 0]\n",
    "# this code will extract all the cities that were in Southern Hemisphere- 173 cities\n",
    "southern_hemisphere_df.head()"
   ]
  },
  {
   "cell_type": "code",
   "execution_count": 54,
   "metadata": {},
   "outputs": [
    {
     "name": "stdout",
     "output_type": "stream",
     "text": [
      "The r-value is: 0.6\n"
     ]
    },
    {
     "data": {
      "image/png": "[encoded data removed]",
      "text/plain": [
       "<Figure size 432x288 with 1 Axes>"
      ]
     },
     "metadata": {
      "needs_background": "light"
     },
     "output_type": "display_data"
    },
    {
     "data": {
      "text/plain": [
       "<Figure size 432x288 with 0 Axes>"
      ]
     },
     "metadata": {},
     "output_type": "display_data"
    }
   ],
   "source": [
    "# Setting up x and y axis \n",
    "x_axis = southern_hemisphere_df['Lat']\n",
    "y_axis = southern_hemisphere_df['Max Temp']\n",
    "\n",
    "# giving the name to the x and y label\n",
    "plt.xlabel(\"Latitude\")\n",
    "plt.ylabel(\"Max Temperature (F)\")\n",
    "\n",
    "# finding the correlation \n",
    "correlation = st.pearsonr(x_axis, y_axis)\n",
    "correlation\n",
    "print(f\"The r-value is: {round(correlation[0],2)}\")\n",
    "\n",
    "# go back up and add this (if you have not done so at the beginning) -> import scipy.stats as st\n",
    "\n",
    "(slope, intercept, rvalue, pvalue, stderr) = linregress(x_axis, y_axis)\n",
    "regress_values = x_axis * slope + intercept\n",
    "line_eq = \"y = \" + str(round(slope,2)) + \"x + \" + str(round(intercept,2))\n",
    "plt.scatter(x_axis, y_axis)\n",
    "plt.plot(x_axis,regress_values,\"r-\")\n",
    "# the code below is to show the line equation\n",
    "plt.annotate(line_eq,(-50,90),fontsize=15,color=\"red\")\n",
    "plt.show()\n",
    "\n",
    "\n",
    "plt.savefig('Southern-Latitude-Temperature.jpg')"
   ]
  },
  {
   "cell_type": "markdown",
   "metadata": {},
   "source": [
    "####  Northern Hemisphere - Humidity (%) vs. Latitude Linear Regression"
   ]
  },
  {
   "cell_type": "code",
   "execution_count": 55,
   "metadata": {},
   "outputs": [
    {
     "name": "stdout",
     "output_type": "stream",
     "text": [
      "The r-value is: 0.42\n"
     ]
    },
    {
     "data": {
      "image/png": "[encoded data removed]",
      "text/plain": [
       "<Figure size 432x288 with 1 Axes>"
      ]
     },
     "metadata": {
      "needs_background": "light"
     },
     "output_type": "display_data"
    },
    {
     "data": {
      "text/plain": [
       "<Figure size 432x288 with 0 Axes>"
      ]
     },
     "metadata": {},
     "output_type": "display_data"
    }
   ],
   "source": [
    "# Setting up x and y axis \n",
    "x_axis = northern_hemisphere_df['Lat']\n",
    "y_axis = northern_hemisphere_df['Humidity']\n",
    "\n",
    "# giving the name to the x and y label\n",
    "plt.xlabel(\"Latitude\")\n",
    "plt.ylabel(\"Humidity (%)\")\n",
    "\n",
    "# finding the correlation \n",
    "correlation = st.pearsonr(x_axis, y_axis)\n",
    "correlation\n",
    "print(f\"The r-value is: {round(correlation[0],2)}\")\n",
    "\n",
    "# go back up and add this (if you have not done so at the beginning) -> import scipy.stats as st\n",
    "\n",
    "(slope, intercept, rvalue, pvalue, stderr) = linregress(x_axis, y_axis)\n",
    "regress_values = x_axis * slope + intercept\n",
    "line_eq = \"y = \" + str(round(slope,2)) + \"x + \" + str(round(intercept,2))\n",
    "plt.scatter(x_axis, y_axis)\n",
    "plt.plot(x_axis,regress_values,\"r-\")\n",
    "# the code below is to show the line equation\n",
    "plt.annotate(line_eq,(40,20),fontsize=15,color=\"red\")\n",
    "plt.show()\n",
    "\n",
    "\n",
    "plt.savefig('Northern-Latitude-Humidity.jpg')"
   ]
  },
  {
   "cell_type": "markdown",
   "metadata": {},
   "source": [
    "####  Southern Hemisphere - Humidity (%) vs. Latitude Linear Regression"
   ]
  },
  {
   "cell_type": "code",
   "execution_count": 56,
   "metadata": {},
   "outputs": [
    {
     "name": "stdout",
     "output_type": "stream",
     "text": [
      "The r-value is: 0.36\n"
     ]
    },
    {
     "data": {
      "image/png": "[encoded data removed]",
      "text/plain": [
       "<Figure size 432x288 with 1 Axes>"
      ]
     },
     "metadata": {
      "needs_background": "light"
     },
     "output_type": "display_data"
    },
    {
     "data": {
      "text/plain": [
       "<Figure size 432x288 with 0 Axes>"
      ]
     },
     "metadata": {},
     "output_type": "display_data"
    }
   ],
   "source": [
    "# Setting up x and y axis \n",
    "x_axis = southern_hemisphere_df['Lat']\n",
    "y_axis = southern_hemisphere_df['Humidity']\n",
    "\n",
    "# giving the name to the x and y label\n",
    "plt.xlabel(\"Latitude\")\n",
    "plt.ylabel(\"Humidity (%)\")\n",
    "\n",
    "# finding the correlation \n",
    "correlation = st.pearsonr(x_axis, y_axis)\n",
    "correlation\n",
    "print(f\"The r-value is: {round(correlation[0],2)}\")\n",
    "\n",
    "# go back up and add this (if you have not done so at the beginning) -> import scipy.stats as st\n",
    "\n",
    "(slope, intercept, rvalue, pvalue, stderr) = linregress(x_axis, y_axis)\n",
    "regress_values = x_axis * slope + intercept\n",
    "line_eq = \"y = \" + str(round(slope,2)) + \"x + \" + str(round(intercept,2))\n",
    "plt.scatter(x_axis, y_axis)\n",
    "plt.plot(x_axis,regress_values,\"r-\")\n",
    "# the code below is to show the line equation\n",
    "plt.annotate(line_eq,(-25,30),fontsize=15,color=\"red\")\n",
    "plt.show()\n",
    "\n",
    "plt.savefig('Souththern-Latitude-Humidity.jpg')"
   ]
  },
  {
   "cell_type": "markdown",
   "metadata": {},
   "source": [
    "####  Northern Hemisphere - Cloudiness (%) vs. Latitude Linear Regression"
   ]
  },
  {
   "cell_type": "code",
   "execution_count": 57,
   "metadata": {},
   "outputs": [
    {
     "name": "stdout",
     "output_type": "stream",
     "text": [
      "The r-value is: 0.24\n"
     ]
    },
    {
     "data": {
      "image/png": "[encoded data removed]",
      "text/plain": [
       "<Figure size 432x288 with 1 Axes>"
      ]
     },
     "metadata": {
      "needs_background": "light"
     },
     "output_type": "display_data"
    },
    {
     "data": {
      "text/plain": [
       "<Figure size 432x288 with 0 Axes>"
      ]
     },
     "metadata": {},
     "output_type": "display_data"
    }
   ],
   "source": [
    "# Setting up x and y axis \n",
    "x_axis = northern_hemisphere_df['Lat']\n",
    "y_axis = northern_hemisphere_df['Cloudiness']\n",
    "\n",
    "# giving the name to the x and y label\n",
    "plt.xlabel(\"Latitude\")\n",
    "plt.ylabel(\"Cloudiness (%)\")\n",
    "\n",
    "# finding the correlation \n",
    "correlation = st.pearsonr(x_axis, y_axis)\n",
    "correlation\n",
    "print(f\"The r-value is: {round(correlation[0],2)}\")\n",
    "\n",
    "# go back up and add this (if you have not done so at the beginning) -> import scipy.stats as st\n",
    "\n",
    "(slope, intercept, rvalue, pvalue, stderr) = linregress(x_axis, y_axis)\n",
    "regress_values = x_axis * slope + intercept\n",
    "line_eq = \"y = \" + str(round(slope,2)) + \"x + \" + str(round(intercept,2))\n",
    "plt.scatter(x_axis, y_axis)\n",
    "plt.plot(x_axis,regress_values,\"r-\")\n",
    "# the code below is to show the line equation\n",
    "plt.annotate(line_eq,(40,50),fontsize=15,color=\"red\")\n",
    "plt.show()\n",
    "\n",
    "plt.savefig('Northern-Latitude-Cloudiness.jpg')"
   ]
  },
  {
   "cell_type": "markdown",
   "metadata": {},
   "source": [
    "####  Southern Hemisphere - Cloudiness (%) vs. Latitude Linear Regression"
   ]
  },
  {
   "cell_type": "code",
   "execution_count": 58,
   "metadata": {},
   "outputs": [
    {
     "name": "stdout",
     "output_type": "stream",
     "text": [
      "The r-value is: 0.16\n"
     ]
    },
    {
     "data": {
      "image/png": "[encoded data removed]",
      "text/plain": [
       "<Figure size 432x288 with 1 Axes>"
      ]
     },
     "metadata": {
      "needs_background": "light"
     },
     "output_type": "display_data"
    },
    {
     "data": {
      "text/plain": [
       "<Figure size 432x288 with 0 Axes>"
      ]
     },
     "metadata": {},
     "output_type": "display_data"
    }
   ],
   "source": [
    "# Setting up x and y axis \n",
    "x_axis = southern_hemisphere_df['Lat']\n",
    "y_axis = southern_hemisphere_df['Cloudiness']\n",
    "\n",
    "# giving the name to the x and y label\n",
    "plt.xlabel(\"Latitude\")\n",
    "plt.ylabel(\"Cloudiness (%) \")\n",
    "\n",
    "# finding the correlation \n",
    "correlation = st.pearsonr(x_axis, y_axis)\n",
    "correlation\n",
    "print(f\"The r-value is: {round(correlation[0],2)}\")\n",
    "\n",
    "# go back up and add this (if you have not done so at the beginning) -> import scipy.stats as st\n",
    "\n",
    "(slope, intercept, rvalue, pvalue, stderr) = linregress(x_axis, y_axis)\n",
    "regress_values = x_axis * slope + intercept\n",
    "line_eq = \"y = \" + str(round(slope,2)) + \"x + \" + str(round(intercept,2))\n",
    "plt.scatter(x_axis, y_axis)\n",
    "plt.plot(x_axis,regress_values,\"r-\")\n",
    "# the code below is to show the line equation\n",
    "plt.annotate(line_eq,(-50,60),fontsize=15,color=\"red\")\n",
    "plt.show()\n",
    "\n",
    "plt.savefig('Souththern-Latitude-Cloudiness.jpg')"
   ]
  },
  {
   "cell_type": "markdown",
   "metadata": {},
   "source": [
    "####  Northern Hemisphere - Wind Speed (mph) vs. Latitude Linear Regression"
   ]
  },
  {
   "cell_type": "code",
   "execution_count": 59,
   "metadata": {},
   "outputs": [
    {
     "name": "stdout",
     "output_type": "stream",
     "text": [
      "The r-value is: 0.16\n"
     ]
    },
    {
     "data": {
      "image/png": "[encoded data removed]",
      "text/plain": [
       "<Figure size 432x288 with 1 Axes>"
      ]
     },
     "metadata": {
      "needs_background": "light"
     },
     "output_type": "display_data"
    },
    {
     "data": {
      "text/plain": [
       "<Figure size 432x288 with 0 Axes>"
      ]
     },
     "metadata": {},
     "output_type": "display_data"
    }
   ],
   "source": [
    "# Setting up x and y axis \n",
    "x_axis = northern_hemisphere_df['Lat']\n",
    "y_axis = northern_hemisphere_df['Wind Speed']\n",
    "\n",
    "# giving the name to the x and y label\n",
    "plt.xlabel(\"Latitude\")\n",
    "plt.ylabel(\"Wind Speed (mph)\")\n",
    "\n",
    "# finding the correlation \n",
    "correlation = st.pearsonr(x_axis, y_axis)\n",
    "correlation\n",
    "print(f\"The r-value is: {round(correlation[0],2)}\")\n",
    "\n",
    "# go back up and add this (if you have not done so at the beginning) -> import scipy.stats as st\n",
    "\n",
    "(slope, intercept, rvalue, pvalue, stderr) = linregress(x_axis, y_axis)\n",
    "regress_values = x_axis * slope + intercept\n",
    "line_eq = \"y = \" + str(round(slope,2)) + \"x + \" + str(round(intercept,2))\n",
    "plt.scatter(x_axis, y_axis)\n",
    "plt.plot(x_axis,regress_values,\"r-\")\n",
    "# the code below is to show the line equation\n",
    "plt.annotate(line_eq,(10,30),fontsize=15,color=\"red\")\n",
    "plt.show()\n",
    "\n",
    "plt.savefig('Northern-Latitude-WindSpeed.jpg')"
   ]
  },
  {
   "cell_type": "markdown",
   "metadata": {},
   "source": [
    "####  Southern Hemisphere - Wind Speed (mph) vs. Latitude Linear Regression"
   ]
  },
  {
   "cell_type": "code",
   "execution_count": 60,
   "metadata": {},
   "outputs": [
    {
     "name": "stdout",
     "output_type": "stream",
     "text": [
      "The r-value is: -0.33\n"
     ]
    },
    {
     "data": {
      "image/png": "[encoded data removed]",
      "text/plain": [
       "<Figure size 432x288 with 1 Axes>"
      ]
     },
     "metadata": {
      "needs_background": "light"
     },
     "output_type": "display_data"
    },
    {
     "data": {
      "text/plain": [
       "<Figure size 432x288 with 0 Axes>"
      ]
     },
     "metadata": {},
     "output_type": "display_data"
    }
   ],
   "source": [
    "# Setting up x and y axis \n",
    "x_axis = southern_hemisphere_df['Lat']\n",
    "y_axis = southern_hemisphere_df['Wind Speed']\n",
    "\n",
    "# giving the name to the x and y label\n",
    "plt.xlabel(\"Latitude\")\n",
    "plt.ylabel(\"Wind Speed (mph)\")\n",
    "\n",
    "# finding the correlation \n",
    "correlation = st.pearsonr(x_axis, y_axis)\n",
    "correlation\n",
    "print(f\"The r-value is: {round(correlation[0],2)}\")\n",
    "\n",
    "# go back up and add this (if you have not done so at the beginning) -> import scipy.stats as st\n",
    "\n",
    "(slope, intercept, rvalue, pvalue, stderr) = linregress(x_axis, y_axis)\n",
    "regress_values = x_axis * slope + intercept\n",
    "line_eq = \"y = \" + str(round(slope,2)) + \"x + \" + str(round(intercept,2))\n",
    "plt.scatter(x_axis, y_axis)\n",
    "plt.plot(x_axis,regress_values,\"r-\")\n",
    "# the code below is to show the line equation\n",
    "plt.annotate(line_eq,(-50,20),fontsize=15,color=\"red\")\n",
    "plt.show()\n",
    "\n",
    "plt.savefig('Southern-Latitude-WindSpeed.jpg')"
   ]
  }
 ],
 "metadata": {
  "anaconda-cloud": {},
  "kernel_info": {
   "name": "python3"
  },
  "kernelspec": {
   "display_name": "Python 3",
   "language": "python",
   "name": "python3"
  },
  "language_info": {
   "codemirror_mode": {
    "name": "ipython",
    "version": 3
   },
   "file_extension": ".py",
   "mimetype": "text/x-python",
   "name": "python",
   "nbconvert_exporter": "python",
   "pygments_lexer": "ipython3",
   "version": "3.8.3"
  },
  "latex_envs": {
   "LaTeX_envs_menu_present": true,
   "autoclose": false,
   "autocomplete": true,
   "bibliofile": "biblio.bib",
   "cite_by": "apalike",
   "current_citInitial": 1,
   "eqLabelWithNumbers": true,
   "eqNumInitial": 1,
   "hotkeys": {
    "equation": "Ctrl-E",
    "itemize": "Ctrl-I"
   },
   "labels_anchors": false,
   "latex_user_defs": false,
   "report_style_numbering": false,
   "user_envs_cfg": false
  },
  "nteract": {
   "version": "0.12.3"
  }
 },
 "nbformat": 4,
 "nbformat_minor": 2
}
